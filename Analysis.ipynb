{
 "cells": [
  {
   "cell_type": "code",
   "execution_count": null,
   "metadata": {},
   "outputs": [],
   "source": [
    "import numpy as np\n",
    "import matplotlib.pyplot as plt\n",
    "import ugradio\n",
    "%matplotlib inline"
   ]
  },
  {
   "cell_type": "markdown",
   "metadata": {},
   "source": [
    "## Calibration ##"
   ]
  },
  {
   "cell_type": "markdown",
   "metadata": {},
   "source": [
    "### Getting $s_{offline}$ ###"
   ]
  },
  {
   "cell_type": "code",
   "execution_count": null,
   "metadata": {},
   "outputs": [],
   "source": [
    "## Getting the spectrum using numpy functions ##\n",
    "\n",
    "# For the offline spectrum, we have 16000 Blocks\n",
    "# These blocks are divided into 320 'towers'\n",
    "# (Thanks to Sharks in Space for the terminology)\n",
    "# Each tower contains 50 blocks\n",
    "\n",
    "# First, define useful parameters\n",
    "\n",
    "ntowers = 20           # use only a subset of towers\n",
    "nblocks = 50           # blocks per tower\n",
    "nsamples = 16000\n",
    "vsamp = 62.5/2         # sampling freq, in MHz\n",
    "freqs = np.linspace(-vsamp/2, vsamp/2, nsamples)\n",
    "\n",
    "# Next, initialize an array of zeros of the correct shape\n",
    "\n",
    "voltages = np.zeros(ntowers*nblocks*nsamples, dtype='complex128').reshape(nblocks*ntowers,nsamples)\n",
    "\n",
    "# Then cycle through all of the data and input it into the voltages array\n",
    "# In the interest of time/memory, the voltage data is in frequency space\n",
    "\n",
    "for i in range(ntowers):\n",
    "    data = np.load('Calibration Data/ColdSkyBlock{:d}.npy'.format(i+1))\n",
    "    for j in range(nblocks):\n",
    "        voltages[nblocks*i + j] = np.fft.fftshift(np.fft.fft(data[j+1]))  # data[0] contains parameters"
   ]
  },
  {
   "cell_type": "code",
   "execution_count": null,
   "metadata": {
    "collapsed": true
   },
   "outputs": [],
   "source": [
    "## Getting the spectrum without using np.mean or np.median ##\n",
    "\n",
    "# 16,000 Blocks in the offline spectrum.\n",
    "# These blocks are divided into 320 towers,\n",
    "# with each tower containing 50 blocks.\n",
    "\n",
    "ntowers = 320          # use all towers\n",
    "nblocks = 50           # blocks per tower\n",
    "nsamples = 16000\n",
    "vsamp = 62.5/2         # sampling frequency, MHz\n",
    "freqs = np.linspace(-vsamp/2, vsamp/2, nsamples)\n",
    "\n",
    "# Initialize average array\n",
    "s_offline = np.zeros(nsamples)\n",
    "\n",
    "# Loop through all sets of data\n",
    "for i in range(ntowers):\n",
    "    data = np.load('Calibration Data/ColdSkyBlock{:d}.npy'.format(i+1))\n",
    "    # Loop through all blocks in tower\n",
    "    for j in range(nblocks):\n",
    "        voltages = np.fft.fftshift(np.fft.fft(data[j+1]))\n",
    "        power = np.abs(voltages)**2\n",
    "        s_offline += power\n",
    "        \n",
    "# Divide out by number of blocks\n",
    "s_offline /= (ntowers*nblocks)"
   ]
  },
  {
   "cell_type": "code",
   "execution_count": null,
   "metadata": {
    "collapsed": true
   },
   "outputs": [],
   "source": [
    "# Remove DC component\n",
    "key = np.where(s_offline==s_offline.max())\n",
    "s_offline[key] = np.mean(s_offline[nsamples/2-300:nsamples/2+300])"
   ]
  },
  {
   "cell_type": "code",
   "execution_count": null,
   "metadata": {
    "collapsed": true
   },
   "outputs": [],
   "source": [
    "## Take a look at different types of smoothing ##\n",
    "\n",
    "# Smooth using np.mean()\n",
    "mean_power = np.mean(np.abs(voltages)**2, axis=0)\n",
    "\n",
    "# Smooth using np.median()\n",
    "median_power = np.median(np.abs(voltages)**2, axis=0)"
   ]
  },
  {
   "cell_type": "code",
   "execution_count": null,
   "metadata": {
    "collapsed": true
   },
   "outputs": [],
   "source": [
    "# Remove the DC component\n",
    "key1 = np.where(mean_power==mean_power.max())\n",
    "key2 = np.where(median_power==median_power.max())\n",
    "\n",
    "mean_power[key1] = np.mean(mean_power[nsamples/2-300:nsamples/2+300])\n",
    "median_power[key2] = np.mean(median_power[nsamples/2-300:nsamples/2+300])"
   ]
  },
  {
   "cell_type": "code",
   "execution_count": null,
   "metadata": {},
   "outputs": [],
   "source": [
    "# Plot the results\n",
    "fig = plt.figure(figsize=(8,2))\n",
    "ax = fig.add_subplot(1,1,1)\n",
    "ax.set_xlabel(r'$\\mathrm{Frequency\\ [MHz]}$', fontsize=12)\n",
    "ax.set_ylabel(r'$\\mathrm{Power\\ [V^2\\cdot\\ s^{-1}]}$', fontsize=12)\n",
    "ax.set_title(r'$\\mathrm{Comparison\\ of\\ Mean\\ and\\ Median\\ Smoothing}$', fontsize=12)\n",
    "\n",
    "ax.set_xlim(-2,2)\n",
    "\n",
    "ax.plot(freqs, mean_power[::-1], color='red', alpha=0.7, label=r'$\\mathrm{Mean}$')\n",
    "ax.plot(freqs, median_power[::-1], color='dodgerblue', alpha=0.7, label=r'$\\mathrm{Median}$')\n",
    "ax.legend(loc=(0.85,0.5), fontsize=10, framealpha=0.5)\n",
    "\n",
    "plt.tight_layout()\n",
    "fig.savefig('Plots/s_offline_one_channel_big.pdf')\n",
    "plt.show()"
   ]
  },
  {
   "cell_type": "code",
   "execution_count": null,
   "metadata": {},
   "outputs": [],
   "source": [
    "## Now let's see what happens when we average over channels ##\n",
    "\n",
    "# We need each channel to have a bandwidth of at least 1kHz\n",
    "# Just to get an idea, let's use 100 channels\n",
    "# Timed out with the original dataset, so reduced to 1000 blocks\n",
    "\n",
    "nchannels = 1000\n",
    "\n",
    "voltages_j = voltages.copy().reshape(ntowers*nblocks,nsamples/nchannels,nchannels)\n",
    "power_j = np.abs(voltages_j)**2\n",
    "# Take the mean, then reshape back to 1D\n",
    "mean_by_channels = np.mean(power_j, axis=0).reshape(nsamples)\n",
    "\n",
    "# Take the median, same deal\n",
    "median_by_channels = np.median(power_j, axis=0).reshape(nsamples)"
   ]
  },
  {
   "cell_type": "code",
   "execution_count": null,
   "metadata": {
    "collapsed": true
   },
   "outputs": [],
   "source": [
    "# Remove the DC component\n",
    "key1 = np.where(mean_by_channels==mean_by_channels.max())\n",
    "key2 = np.where(median_by_channels==median_by_channels.max())\n",
    "\n",
    "mean_by_channels[key1] = np.mean(mean_by_channels[nsamples/2-300:nsamples/2+300])\n",
    "median_by_channels[key2] = np.mean(median_by_channels[nsamples/2-300:nsamples/2+300])"
   ]
  },
  {
   "cell_type": "code",
   "execution_count": null,
   "metadata": {},
   "outputs": [],
   "source": [
    "fig = plt.figure(figsize=(8,2))\n",
    "ax = fig.add_subplot(1,1,1)\n",
    "ax.set_xlabel(r'$\\mathrm{Frequency\\ [MHz]}$', fontsize=12)\n",
    "ax.set_ylabel(r'$\\mathrm{Fourier\\ Power\\ [V^2\\cdot\\ s^{-1}]}$', fontsize=12)\n",
    "ax.set_title(r'$\\mathrm{Smoothed\\ Offline\\ Spectrum,\\ 1000\\ Channels,\\ 1000\\ Blocks}$', fontsize=12)\n",
    "\n",
    "ax.set_xlim(-2,2)\n",
    "\n",
    "ax.plot(freqs, mean_by_channels[::-1], color='red', alpha=0.7, label=r'$\\mathrm{Mean}$')\n",
    "ax.plot(freqs, median_by_channels[::-1], color='dodgerblue', alpha=0.7, label=r'$\\mathrm{Median}$')\n",
    "ax.legend()\n",
    "\n",
    "fig.savefig('Plots/s_offline_1000_channels.pdf')\n",
    "plt.show()"
   ]
  },
  {
   "cell_type": "code",
   "execution_count": null,
   "metadata": {},
   "outputs": [],
   "source": [
    "np.save('Velocities.npy', velocities)"
   ]
  },
  {
   "cell_type": "markdown",
   "metadata": {},
   "source": [
    "## Getting $s_{online}$ ##"
   ]
  },
  {
   "cell_type": "code",
   "execution_count": null,
   "metadata": {
    "collapsed": true
   },
   "outputs": [],
   "source": [
    "# Note that the method of averaging that I will use\n",
    "# from here on out produces the mean of the data, but\n",
    "# requires much less memory than using the np methods\n",
    "\n",
    "# Initialize array of zeros\n",
    "\n",
    "s_online = np.zeros(nsamples)\n",
    "\n",
    "# Cycle through all blocks of data\n",
    "# As far as I can tell, this actually takes less time to\n",
    "# complete than the method used above\n",
    "\n",
    "for i in range(ntowers):\n",
    "    data = np.load('Part 2/Block{:d}.npy'.format(i+1))\n",
    "    for j in range(nblocks):\n",
    "        # Load in voltages in frequency space\n",
    "        voltages = np.fft.fftshift(np.fft.fft(data[j+1]))\n",
    "        # Transform into a power\n",
    "        power = np.abs(voltages)**2\n",
    "        # Add to online spectrum\n",
    "        s_online += power\n",
    "        \n",
    "# Divide out number of blocks averaged over\n",
    "s_online /= (nblocks*ntowers)"
   ]
  },
  {
   "cell_type": "code",
   "execution_count": null,
   "metadata": {},
   "outputs": [],
   "source": [
    "# Remove the DC component\n",
    "key = np.where(s_online==s_online.max())\n",
    "\n",
    "s_online[key] = np.mean(s_online[nsamples/2-300:nsamples/2+300])"
   ]
  },
  {
   "cell_type": "code",
   "execution_count": null,
   "metadata": {},
   "outputs": [],
   "source": [
    "# Only want to use data for values within lowpass filter for shape\n",
    "\n",
    "freqs_key = np.where(np.abs(freqs) <= 2)\n",
    "reduced_freqs = freqs[freqs_key]\n",
    "shape = s_online[freqs_key]/s_offline[freqs_key]"
   ]
  },
  {
   "cell_type": "code",
   "execution_count": null,
   "metadata": {},
   "outputs": [],
   "source": [
    "fig = plt.figure(figsize=(4,2))\n",
    "ax = fig.add_subplot(1,1,1)\n",
    "ax.set_xlabel(r'$\\mathrm{Frequency\\ [MHz]}$', fontsize=12)\n",
    "ax.set_ylabel(r'$\\mathrm{Shape\\ [Unitless]}$', fontsize=12)\n",
    "ax.set_title(r'$\\mathrm{Line\\ Shape\\ Without\\ Correction}$', fontsize=12)\n",
    "\n",
    "ax.plot(reduced_freqs, shape[::-1], color='k')\n",
    "\n",
    "plt.tight_layout()\n",
    "fig.savefig('Plots/Uncorrected_Shape.pdf')\n",
    "plt.show()"
   ]
  },
  {
   "cell_type": "code",
   "execution_count": null,
   "metadata": {},
   "outputs": [],
   "source": [
    "fig = plt.figure(figsize=(4.25,2))\n",
    "ax = fig.add_subplot(1,1,1)\n",
    "ax.set_xlabel(r'$\\mathrm{Frequency\\ [MHz]}$', fontsize=12)\n",
    "ax.set_ylabel(r'$\\mathrm{Fourier\\ Power\\ [V^2\\cdot\\ s]}$', fontsize=12)\n",
    "ax.set_title(r'$\\mathrm{Overlay\\ of\\ Online\\ and\\ Offline\\ Spectra}$', fontsize=12)\n",
    "\n",
    "ax.plot(reduced_freqs, s_offline[freqs_key][::-1], color='red', alpha=0.7, label='Offline')\n",
    "ax.plot(reduced_freqs, s_online[freqs_key][::-1], color='dodgerblue', alpha=0.7, label='Online')\n",
    "\n",
    "ax.legend(loc=(0.35,0.05), fontsize=10, framealpha=0.5)\n",
    "\n",
    "plt.tight_layout()\n",
    "fig.savefig('Plots/Online_vs_Offline.pdf')\n",
    "plt.show()"
   ]
  },
  {
   "cell_type": "code",
   "execution_count": null,
   "metadata": {
    "collapsed": true
   },
   "outputs": [],
   "source": [
    "ax.legend?"
   ]
  },
  {
   "cell_type": "markdown",
   "metadata": {},
   "source": [
    "## Get $T_{sys}$ ##"
   ]
  },
  {
   "cell_type": "code",
   "execution_count": null,
   "metadata": {
    "collapsed": true
   },
   "outputs": [],
   "source": [
    "# Define calibration temperature\n",
    "Tcal = 300 #K\n",
    "\n",
    "# Get s_300K\n",
    "ntowers_300K = 20\n",
    "s_300K = np.zeros(nsamples)\n",
    "\n",
    "for i in range(ntowers_300K):\n",
    "    data = np.load('Calibration Data/300KBlock{:d}.npy'.format(i+1))\n",
    "    for j in range(nblocks):\n",
    "        voltages = np.fft.fftshift(np.fft.fft(data[j+1]))\n",
    "        power = np.abs(voltages)**2\n",
    "        s_300K += power\n",
    "        \n",
    "s_300K /= (ntowers_300K*nblocks)"
   ]
  },
  {
   "cell_type": "code",
   "execution_count": null,
   "metadata": {},
   "outputs": [],
   "source": [
    "# Compute sums over entire bandwidth\n",
    "sum1 = np.sum(s_offline.copy())\n",
    "sum2 = np.sum(s_300K.copy()-s_offline.copy())\n",
    "\n",
    "# Compute system temperature\n",
    "Tsys = sum1*Tcal/sum2\n",
    "\n",
    "# Compute calibrated system (frequency axis is reversed)\n",
    "calibrated_spectrum = shape[::-1]*Tsys"
   ]
  },
  {
   "cell_type": "code",
   "execution_count": null,
   "metadata": {},
   "outputs": [],
   "source": [
    "fig = plt.figure(figsize=(8,2))\n",
    "ax = fig.add_subplot(1,1,1)\n",
    "ax.set_xlabel(r'$\\mathrm{Frequency\\ [MHz]}$', fontsize=12)\n",
    "ax.set_ylabel(r'$\\mathrm{Brightness\\ Temp\\ [K]}$', fontsize=12)\n",
    "ax.set_title(r'$\\mathrm{Calibrated\\ Spectrum\\ with\\ Offset}$', fontsize=12)\n",
    "\n",
    "ax.plot(reduced_freqs, calibrated_spectrum, color='k')\n",
    "\n",
    "plt.tight_layout()\n",
    "fig.savefig('Plots/Calibrated_Spectrum.pdf')\n",
    "plt.show()"
   ]
  },
  {
   "cell_type": "code",
   "execution_count": null,
   "metadata": {
    "collapsed": true
   },
   "outputs": [],
   "source": [
    "# Now plot relative to Doppler velocity\n",
    "fo = 1420.4058 #MHz\n",
    "c = 3e5 #km/s\n",
    "velocities = -(reduced_freqs+1420-fo)*c/fo"
   ]
  },
  {
   "cell_type": "code",
   "execution_count": null,
   "metadata": {},
   "outputs": [],
   "source": [
    "fig = plt.figure(figsize=(8,2))\n",
    "ax = fig.add_subplot(1,1,1)\n",
    "ax.set_xlabel(r'$\\mathrm{Doppler\\ Velocity\\ [km\\ s^{-1}]}$', fontsize=12)\n",
    "ax.set_ylabel(r'$\\mathrm{Brightness\\ Temp\\ [K]}$', fontsize=12)\n",
    "ax.set_title(r'$\\mathrm{Uncorrected\\ Spectrum\\ in\\ Velocity\\ Space}$', fontsize=12)\n",
    "\n",
    "ax.plot(velocities, calibrated_spectrum, color='k')\n",
    "\n",
    "#plt.tight_layout()\n",
    "#fig.savefig('Plots/Doppler_Shift_Uncorrected.pdf')\n",
    "plt.show()"
   ]
  },
  {
   "cell_type": "code",
   "execution_count": null,
   "metadata": {},
   "outputs": [],
   "source": [
    "fig = plt.figure(figsize=(4,2))\n",
    "ax = fig.add_subplot(1,1,1)\n",
    "ax.set_xlabel(r'$\\mathrm{Doppler\\ Velocity\\ [km\\ s^{-1}]}$', fontsize=12)\n",
    "ax.set_ylabel(r'$\\mathrm{Brightness\\ Temp\\ [K]}$', fontsize=12)\n",
    "ax.set_title(r'$\\mathrm{Uncorrected\\ Spectrum\\ in\\ Velocity\\ Space}$', fontsize=12)\n",
    "\n",
    "ax.set_xlim(-200,200)\n",
    "\n",
    "ax.plot(velocities, calibrated_spectrum, color='k')\n",
    "\n",
    "plt.tight_layout()\n",
    "fig.savefig('Plots/Doppler_Shift_Uncorrected_Zoom.pdf')\n",
    "plt.show()"
   ]
  },
  {
   "cell_type": "markdown",
   "metadata": {},
   "source": [
    "## Rotation Matrices ##"
   ]
  },
  {
   "cell_type": "code",
   "execution_count": null,
   "metadata": {
    "collapsed": true
   },
   "outputs": [],
   "source": [
    "def ang_to_rect(lon=0.0, lat=0.0, deg=False):\n",
    "    \"\"\"\n",
    "    This function produces converts angular coordinates to rectangular\n",
    "    coordinates.\n",
    "    \n",
    "    lon is the azimuthal angle of the angular coordinates. It is\n",
    "    defaulted to 0.\n",
    "    \n",
    "    lat is the latitude of the angular coordinates. It is defaulted to 0.\n",
    "    \n",
    "    deg allows for entering (lon,lat) values in either degrees or radians.\n",
    "    It is assumed that the angles are entered in radians.\n",
    "    \n",
    "    This function returns the rectangular representation of the angular\n",
    "    coordinates (lon,lat) as a numpy array.\n",
    "    \"\"\"\n",
    "    \n",
    "    if deg:\n",
    "        lat = np.radians(lat)\n",
    "        lon = np.radians(lon)\n",
    "        \n",
    "    return np.array( [ np.cos(lat)*np.cos(lon), np.cos(lat)*np.sin(lon), np.sin(lat) ] )\n",
    "\n",
    "def rect_to_ang(x, deg=False):\n",
    "    \"\"\"\n",
    "    This function converts from rectangular coordinates to angular coordinates.\n",
    "    \n",
    "    x is the rectangular representation of the angular coordinates.\n",
    "    \n",
    "    deg allows for the angles to be returned in either degrees or radians.\n",
    "    Angles are returned in radians by default, as a numpy array.\n",
    "    \"\"\"\n",
    "\n",
    "    lat = np.arcsin(x[2])\n",
    "    lon = np.arctan2(x[1], x[0])\n",
    "    \n",
    "    if lon < 0:\n",
    "        lon += 2*np.pi\n",
    "    \n",
    "    if deg:\n",
    "        lat = np.degrees(lat)\n",
    "        lon = np.degrees(lon)\n",
    "        \n",
    "    return np.array( [lon, lat] )"
   ]
  },
  {
   "cell_type": "code",
   "execution_count": null,
   "metadata": {
    "collapsed": true
   },
   "outputs": [],
   "source": [
    "def dd(deg=0.0, m=0.0, s=0.0, sexagesimal=False):\n",
    "    \"\"\"\n",
    "    This function converts deg-min-sec representations to decimal degrees.\n",
    "    \n",
    "    deg is the degree component.\n",
    "    \n",
    "    m is the arcminute component.\n",
    "    \n",
    "    s is the arcsecond component.\n",
    "    \n",
    "    sexagesimal allows for sexagesimal representations to be converted to\n",
    "    decimal degree representations.\n",
    "    \n",
    "    This function returns the decimal degree representation of the degree,\n",
    "    minute, second representation.\n",
    "    \"\"\"\n",
    "    \n",
    "    dd = deg + m/60. + s/3600.\n",
    "    \n",
    "    if sexagesimal:\n",
    "        dd *= 15\n",
    "        \n",
    "    return dd"
   ]
  },
  {
   "cell_type": "code",
   "execution_count": null,
   "metadata": {
    "collapsed": true
   },
   "outputs": [],
   "source": [
    "def RA_to_HA(x, LST = ugradio.timing.lst(ugradio.timing.julian_date()), invert=False):\n",
    "    \"\"\"\n",
    "    This function allows for the conversion between (ra,dec) and (ha,dec).\n",
    "    \n",
    "    x is the vector representation of the celestial coordinates in a\n",
    "    rectangular frame.\n",
    "    \n",
    "    LST is the local sidereal time, with the default setting being the time\n",
    "    the function is called.\n",
    "    \n",
    "    invert is a keyword argument used to determine whether the transformation\n",
    "    is from (ra,dec) to (ha,dec) or vice-versa. The default is (ra,dec)->(ha,dec).\n",
    "    \n",
    "    The function returns the appropriately transformed vector.\n",
    "    \"\"\"\n",
    "    \n",
    "    # define rotation matrix\n",
    "    \n",
    "    R = np.array( [  np.cos(LST), np.sin(LST), 0,\n",
    "                     np.sin(LST),-np.cos(LST), 0,\n",
    "                          0     ,      0     , 1 ] ).reshape(3,3)\n",
    "    \n",
    "    # add option for inverting transformation\n",
    "    \n",
    "    if invert:\n",
    "        R = R.transpose()\n",
    "    \n",
    "    return np.dot(R, x.copy())"
   ]
  },
  {
   "cell_type": "code",
   "execution_count": null,
   "metadata": {
    "collapsed": true
   },
   "outputs": [],
   "source": [
    "def HA_to_AzAlt(x, lat=ugradio.nch.lat, invert=False, deg=True):\n",
    "    \"\"\"\n",
    "    This function allows for transformations between (ha,dec) and (az,alt).\n",
    "    \n",
    "    x is the vector representation of the celestial coordinates.\n",
    "    \n",
    "    lat is the latitude of the observatory, with the default set to NCH.\n",
    "    \n",
    "    invert determines whether the transformation is from (ha,dec) to\n",
    "    (az,alt) or vice-versa. The default assumption is (ha,dec)->(az,alt).\n",
    "    \n",
    "    deg allows for input of lat in degrees or radians. The default\n",
    "    assumption is that lat is measured in degrees.\n",
    "    \n",
    "    This function returns the appropriately transformed vector.\n",
    "    \"\"\"\n",
    "    \n",
    "    if deg:\n",
    "        phi = np.radians(lat)\n",
    "    else:\n",
    "        phi = lat\n",
    "    \n",
    "    # define rotation matrix\n",
    "    \n",
    "    R = np.array( [ -np.sin(phi),  0, np.cos(phi),\n",
    "                         0      , -1,     0      ,\n",
    "                     np.cos(phi),  0, np.sin(phi) ] ).reshape(3,3)\n",
    "    \n",
    "    # add option for inverting transformation\n",
    "    \n",
    "    if invert:\n",
    "        R = R.transpose()\n",
    "        \n",
    "    return np.dot(R, x.copy())"
   ]
  },
  {
   "cell_type": "code",
   "execution_count": null,
   "metadata": {
    "collapsed": true
   },
   "outputs": [],
   "source": [
    "def eq_to_gal(x, invert=False, old=False):\n",
    "    \"\"\"\n",
    "    This function allows for the transformation between equatorial\n",
    "    and galactic coordinates. Note that equatorial coordinates\n",
    "    correspond to (ra,dec).\n",
    "    \n",
    "    x is the vector representation of the celestial coordinates.\n",
    "    \n",
    "    invert determines whether the transformation is from equatorial\n",
    "    to galactic or vice-versa. The default assumption is that x is\n",
    "    intended to be transformed from equatorial to galactic coordinates.\n",
    "    \n",
    "    old allows for the use of the epoch 1950 transformation.\n",
    "    \n",
    "    This function returns the appropriately transformed vector.\n",
    "    \"\"\"\n",
    "    \n",
    "    R = np.array( [ -0.054876, -0.873437, -0.483835,\n",
    "                     0.494109, -0.444830,  0.746982,\n",
    "                    -0.867666, -0.198076,  0.455984] ).reshape(3,3)\n",
    "        \n",
    "    # add option for using 1950 version of transformation\n",
    "    \n",
    "    if old:\n",
    "        R = np.array( [ -0.066989, -0.872756, -0.483539,\n",
    "                         0.492728, -0.450347,  0.744585,\n",
    "                        -0.867601, -0.188375,  0.460200] ).reshape(3,3)\n",
    "        \n",
    "    # add option for inverting transformation\n",
    "    \n",
    "    if invert:\n",
    "        R = R.transpose()\n",
    "        \n",
    "    return np.dot(R, x.copy())"
   ]
  },
  {
   "cell_type": "code",
   "execution_count": null,
   "metadata": {},
   "outputs": [],
   "source": [
    "# This is all for the observation at (l,b) = (120deg,0)\n",
    "# So we need to use rotation matrices to figure out (ra,dec)\n",
    "# Luckily, I remembered to store information about where the horn was pointed...\n",
    "# Unfortunately, I forgot to update it for the retake of the data\n",
    "# Fortunately, I have the JD saved, so I can still recover (ra,dec), with some work\n",
    "\n",
    "# Take the JD of a block in the middle\n",
    "JD = np.real(np.load('Part 2/Block150.npy')[0,0])\n",
    "\n",
    "# Get the LST corresponding to that JD\n",
    "LST = ugradio.timing.lst(JD)\n",
    "\n",
    "# Get the rectangular representation of the galactic coordinates\n",
    "r = ang_to_rect(lon=120, lat=0, deg=True)\n",
    "\n",
    "# Transform to RA/Dec\n",
    "R = eq_to_gal(r, invert=True)\n",
    "\n",
    "# Transform back to angular coordinates\n",
    "angles = rect_to_ang(R, deg=True)\n",
    "\n",
    "# Get the projected velocity\n",
    "v_proj = ugradio.doppler.get_projected_velocity(angles[0], angles[1], JD)"
   ]
  },
  {
   "cell_type": "code",
   "execution_count": null,
   "metadata": {},
   "outputs": [],
   "source": [
    "corrected_velocities = velocities - v_proj/1e3"
   ]
  },
  {
   "cell_type": "code",
   "execution_count": null,
   "metadata": {},
   "outputs": [],
   "source": [
    "fig = plt.figure(figsize=(8,2))\n",
    "ax = fig.add_subplot(1,1,1)\n",
    "\n",
    "ax.set_xlabel(r'$\\mathrm{Doppler\\ Velocity\\ [km\\ s^{-1}]}$', fontsize=12)\n",
    "ax.set_ylabel(r'$\\mathrm{Brightness\\ Temp\\ [K]}$', fontsize=12)\n",
    "ax.set_title(r'$\\mathrm{Comparison\\ of\\ Observed\\ Frame\\ and\\ LSR}$', fontsize=12)\n",
    "\n",
    "ax.set_xlim(-200,200)\n",
    "\n",
    "ax.plot(velocities, calibrated_spectrum, color='red', alpha=0.7, label='Observed')\n",
    "ax.plot(corrected_velocities, 400+calibrated_spectrum, color='dodgerblue', alpha=0.7, label='LSR')\n",
    "\n",
    "ax.legend(loc=(0.7,0.5), fontsize=10, framealpha=0.5)\n",
    "\n",
    "plt.tight_layout()\n",
    "fig.savefig('Plots/Observed_vs_LSR.pdf')\n",
    "plt.show()"
   ]
  },
  {
   "cell_type": "code",
   "execution_count": null,
   "metadata": {},
   "outputs": [],
   "source": [
    "# Correct the spectrum by making a polyfit and subtracting it out\n",
    "\n",
    "# For simplicity, generate a reduced frequency array which only contains values\n",
    "# on the interval [-2,2]MHz\n",
    "\n",
    "# Generate the key\n",
    "freqs_key = np.where(np.abs(freqs) <= 2)\n",
    "\n",
    "# Get the reduced array\n",
    "reduced_freqs = freqs[freqs_key]\n",
    "\n",
    "# Generate a key for the fit\n",
    "fit_key = np.where(np.abs(reduced_freqs-0.45) >= 0.25)\n",
    "\n",
    "# Get a 4-th degree fit\n",
    "p = np.polyfit(reduced_freqs[fit_key],calibrated_spectrum[fit_key], deg=4)\n",
    "\n",
    "# Generate the fit\n",
    "fit = p[0]*reduced_freqs**4 + p[1]*reduced_freqs**3 + p[2]*reduced_freqs**2 + p[3]*reduced_freqs + p[4]\n",
    "\n",
    "# Get the corrected spectrum from the calibrated spectrum and the fit\n",
    "corrected_spectrum = calibrated_spectrum - fit"
   ]
  },
  {
   "cell_type": "code",
   "execution_count": null,
   "metadata": {},
   "outputs": [],
   "source": [
    "fig = plt.figure(figsize=(8,2))\n",
    "ax = fig.add_subplot(1,1,1)\n",
    "ax.set_xlabel(r'$\\mathrm{Frequency\\ [MHz]}$', fontsize=12)\n",
    "ax.set_ylabel(r'$\\mathrm{Brightness\\ Temp\\ [K]}$', fontsize=12)\n",
    "ax.set_title(r'$\\mathrm{Calibrated\\ Spectrum\\ with\\ Fit}$', fontsize=12)\n",
    "\n",
    "ax.plot(reduced_freqs, calibrated_spectrum, color='k', alpha=0.7)\n",
    "ax.plot(reduced_freqs, fit, color='red', alpha=0.8, ls='--', lw=3)\n",
    "\n",
    "plt.tight_layout()\n",
    "fig.savefig('Plots/Calibrated_Spectrum_with_Fit.pdf')\n",
    "plt.show()"
   ]
  },
  {
   "cell_type": "code",
   "execution_count": null,
   "metadata": {},
   "outputs": [],
   "source": [
    "fig = plt.figure(figsize=(8,2))\n",
    "ax = fig.add_subplot(1,1,1)\n",
    "ax.set_xlabel(r'$\\mathrm{Frequency\\ [MHz]}$', fontsize=12)\n",
    "ax.set_ylabel(r'$\\mathrm{Brightness\\ Temp\\ [K]}$', fontsize=12)\n",
    "ax.set_title(r'$\\mathrm{Fully\\ Corrected\\ HI\\ Spectrum}$', fontsize=12)\n",
    "\n",
    "ax.plot(reduced_freqs, corrected_spectrum, color='k')\n",
    "\n",
    "plt.tight_layout()\n",
    "fig.savefig('Plots/Complete_Spectrum_version2.pdf')\n",
    "plt.show()"
   ]
  },
  {
   "cell_type": "code",
   "execution_count": null,
   "metadata": {},
   "outputs": [],
   "source": [
    "gaussfit = ugradio.gauss.gaussfit(reduced_freqs, corrected_spectrum, \n",
    "                                  amp=[100, 450, 200], \n",
    "                                  avg=[-0.4,0.35,0.5], \n",
    "                                  sig=[1, 0.25, 0.5])"
   ]
  },
  {
   "cell_type": "code",
   "execution_count": null,
   "metadata": {},
   "outputs": [],
   "source": [
    "gaussfit"
   ]
  },
  {
   "cell_type": "code",
   "execution_count": null,
   "metadata": {},
   "outputs": [],
   "source": [
    "amp = [ -24.07388132, 376.56358043, 187.1768505]\n",
    "avg = [ 0.08744513, 0.34186278, 0.51317475]\n",
    "sig = [ 0.14759016, 0.05317512, 0.09990975]\n",
    "corrected_fit = ugradio.gauss.gaussval(reduced_freqs, amp, avg, sig)"
   ]
  },
  {
   "cell_type": "code",
   "execution_count": null,
   "metadata": {},
   "outputs": [],
   "source": [
    "fig = plt.figure(figsize=(8,2))\n",
    "ax = fig.add_subplot(1,1,1)\n",
    "\n",
    "ax.set_xlabel(r'$\\mathrm{Frequency\\ [MHz]}$', fontsize=12)\n",
    "ax.set_ylabel(r'$\\mathrm{Brightness\\ Temp\\ [K]}$', fontsize=12)\n",
    "ax.set_title(r'$\\mathrm{Fully\\ Corrected\\ Spectrum\\ with\\ Gaussian\\ Fit}$', fontsize=12)\n",
    "\n",
    "ax.plot(reduced_freqs, corrected_spectrum, color='k', alpha=0.6)\n",
    "ax.plot(reduced_freqs, corrected_fit, color='red', lw=1.5, alpha=1)\n",
    "\n",
    "ax.text(-1.75,350, r'$(\\ \\mu_1,\\ \\sigma_1)\\ =\\ (0.342,\\ 0.053)\\ \\mathrm{MHz}$', fontsize=12)\n",
    "ax.text(-1.75,200, r'$(\\ \\mu_2,\\ \\sigma_2)\\ =\\ (0.513,\\ 0.100)\\ \\mathrm{MHz}$', fontsize=12)\n",
    "\n",
    "plt.tight_layout()\n",
    "fig.savefig('Plots/Correct_Spectrum_with_Fit.pdf')\n",
    "plt.show()"
   ]
  },
  {
   "cell_type": "code",
   "execution_count": null,
   "metadata": {},
   "outputs": [],
   "source": [
    "gaussfit"
   ]
  },
  {
   "cell_type": "markdown",
   "metadata": {
    "collapsed": true
   },
   "source": [
    "## Function for Capturing Data with the PicoSampler ##"
   ]
  },
  {
   "cell_type": "code",
   "execution_count": null,
   "metadata": {},
   "outputs": [],
   "source": [
    "def collect_data(fname):\n",
    "\n",
    "    # note that we are taking measurements using a SSB mixer\n",
    "    # the JD on which the data was taken will be important to know\n",
    "    # the earth-based coordinates are assumed to be at UCB's NCH\n",
    "    # the celestial coordinates are to be input by the user\n",
    "\n",
    "    volt_range = '100mV'\n",
    "    divisor = 2\n",
    "    # note that the capture_data code forces nblocks to be on\n",
    "    # the interval [1,100)\n",
    "    nblocks = 50\n",
    "    nsamples = 16000\n",
    "    vsamp = 62.5/divisor # MHz\n",
    "    dt = 1.0/vsamp       # us\n",
    "\n",
    "\n",
    "    lat = ugradio.nch.lat\n",
    "    lon = ugradio.nch.lon\n",
    "\n",
    "    dec = lat # assumes horn is pointed toward zenith\n",
    "    JD1 = ugradio.timing.julian_date()\n",
    "\n",
    "    # note that there will be a slight delay between the above JD\n",
    "    # and the actual JD of when the measurement was taken\n",
    "    # to account for this, I will take another JD measurement reading\n",
    "    # after reading in the voltage data, then use the average of\n",
    "    # the two as my reported value\n",
    "\n",
    "    data = ugradio.pico.capture_data(volt_range=volt_range, divisor=divisor, nblocks=nblocks, dual_mode=True)*0.1/2**16\n",
    "    JD2 = ugradio.timing.julian_date()\n",
    "    JD = 0.5*(JD1+JD2)\n",
    "    ra = ugradio.timing.lst(JD)\n",
    "    alt = 33 #deg\n",
    "    az = 330 #deg\n",
    "    # reshape data into blocks\n",
    "    # each row represents a new block\n",
    "    data = data.reshape(2, nblocks*nsamples)\n",
    "\n",
    "    # transform it into an array of complex voltages\n",
    "\n",
    "    voltages = (1j*data[0] + data[1]).reshape(nblocks,nsamples)\n",
    "\n",
    "    # add a zero-th row to the voltage data for the observing\n",
    "    # parameters (ie coordinates/time)\n",
    "    # save destination will include readme for details on data\n",
    "\n",
    "    parameters = np.zeros(nsamples)\n",
    "    parameters[0] = JD\n",
    "    parameters[1] = lat\n",
    "    parameters[2] = lon\n",
    "    parameters[3] = ra\n",
    "    parameters[4] = dec\n",
    "    parameters[5] = vsamp\n",
    "    parameters[6] = dt\n",
    "    parameters[7] = nblocks\n",
    "    parameters[8] = nsamples\n",
    "\n",
    "    final_data = np.vstack([parameters,voltages])\n",
    "\n",
    "    np.save(fname, final_data)"
   ]
  }
 ],
 "metadata": {
  "kernelspec": {
   "display_name": "Python 2",
   "language": "python",
   "name": "python2"
  },
  "language_info": {
   "codemirror_mode": {
    "name": "ipython",
    "version": 2
   },
   "file_extension": ".py",
   "mimetype": "text/x-python",
   "name": "python",
   "nbconvert_exporter": "python",
   "pygments_lexer": "ipython2",
   "version": "2.7.14"
  }
 },
 "nbformat": 4,
 "nbformat_minor": 1
}
